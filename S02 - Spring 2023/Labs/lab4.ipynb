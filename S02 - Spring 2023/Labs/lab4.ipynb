{
 "cells": [
  {
   "cell_type": "code",
   "execution_count": 5,
   "metadata": {},
   "outputs": [],
   "source": [
    "import pandas as pd\n",
    "import numpy as np\n",
    "import matplotlib.pyplot as plt\n",
    "from sklearn.linear_model import LinearRegression"
   ]
  },
  {
   "cell_type": "markdown",
   "metadata": {},
   "source": [
    "## load data"
   ]
  },
  {
   "cell_type": "code",
   "execution_count": 10,
   "metadata": {},
   "outputs": [
    {
     "data": {
      "text/html": [
       "<div>\n",
       "<style scoped>\n",
       "    .dataframe tbody tr th:only-of-type {\n",
       "        vertical-align: middle;\n",
       "    }\n",
       "\n",
       "    .dataframe tbody tr th {\n",
       "        vertical-align: top;\n",
       "    }\n",
       "\n",
       "    .dataframe thead th {\n",
       "        text-align: right;\n",
       "    }\n",
       "</style>\n",
       "<table border=\"1\" class=\"dataframe\">\n",
       "  <thead>\n",
       "    <tr style=\"text-align: right;\">\n",
       "      <th></th>\n",
       "      <th>run</th>\n",
       "      <th>time</th>\n",
       "      <th>position</th>\n",
       "      <th>velocity</th>\n",
       "    </tr>\n",
       "  </thead>\n",
       "  <tbody>\n",
       "    <tr>\n",
       "      <th>0</th>\n",
       "      <td>1</td>\n",
       "      <td>0.00</td>\n",
       "      <td>0.33</td>\n",
       "      <td>NaN</td>\n",
       "    </tr>\n",
       "    <tr>\n",
       "      <th>1</th>\n",
       "      <td>1</td>\n",
       "      <td>0.05</td>\n",
       "      <td>0.32</td>\n",
       "      <td>-0.26</td>\n",
       "    </tr>\n",
       "    <tr>\n",
       "      <th>2</th>\n",
       "      <td>1</td>\n",
       "      <td>0.10</td>\n",
       "      <td>0.30</td>\n",
       "      <td>-0.43</td>\n",
       "    </tr>\n",
       "    <tr>\n",
       "      <th>3</th>\n",
       "      <td>1</td>\n",
       "      <td>0.15</td>\n",
       "      <td>0.27</td>\n",
       "      <td>-0.51</td>\n",
       "    </tr>\n",
       "    <tr>\n",
       "      <th>4</th>\n",
       "      <td>1</td>\n",
       "      <td>0.20</td>\n",
       "      <td>0.25</td>\n",
       "      <td>-0.49</td>\n",
       "    </tr>\n",
       "  </tbody>\n",
       "</table>\n",
       "</div>"
      ],
      "text/plain": [
       "   run  time  position  velocity\n",
       "0    1  0.00      0.33       NaN\n",
       "1    1  0.05      0.32     -0.26\n",
       "2    1  0.10      0.30     -0.43\n",
       "3    1  0.15      0.27     -0.51\n",
       "4    1  0.20      0.25     -0.49"
      ]
     },
     "execution_count": 10,
     "metadata": {},
     "output_type": "execute_result"
    }
   ],
   "source": [
    "# folder that has the data\n",
    "folder = r'C:\\Users\\weaveae\\OneDrive - University of Cincinnati\\Classes\\S02 Physics 2\\Lab'\n",
    "\n",
    "# build a dictionary of dataframes from the different runs, and add a column for the run number\n",
    "rawdat = {\"dat_{}\".format(i): pd.read_csv(\"{}\\\\harmonic osc data\\\\Run {} sg.csv\".format(folder, i)).assign(run=i) for i in range(1, 5)}\n",
    "\n",
    "# rename the columns in each df to be time, position, velocity, and run number, and then reorganize the columns so run is first\n",
    "for i in range(1, 5):\n",
    "    rawdat['dat_{}'.format(i)].columns = ['time', 'position', 'velocity', 'run']\n",
    "    rawdat['dat_{}'.format(i)] = rawdat['dat_{}'.format(i)][['run', 'time', 'position', 'velocity']]\n",
    "\n",
    "# combine the dataframes into one\n",
    "df = pd.concat([rawdat['dat_{}'.format(i)] for i in range(1, 5)])\n",
    "df.head()"
   ]
  },
  {
   "cell_type": "code",
   "execution_count": null,
   "metadata": {},
   "outputs": [],
   "source": []
  }
 ],
 "metadata": {
  "kernelspec": {
   "display_name": "Python 3.8.13 ('Python-R')",
   "language": "python",
   "name": "python3"
  },
  "language_info": {
   "codemirror_mode": {
    "name": "ipython",
    "version": 3
   },
   "file_extension": ".py",
   "mimetype": "text/x-python",
   "name": "python",
   "nbconvert_exporter": "python",
   "pygments_lexer": "ipython3",
   "version": "3.8.13"
  },
  "orig_nbformat": 4,
  "vscode": {
   "interpreter": {
    "hash": "4edd946b0283dcb1ae3e50ad348d122f63b3d476f2400b248192952af4aebcf1"
   }
  }
 },
 "nbformat": 4,
 "nbformat_minor": 2
}
